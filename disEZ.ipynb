{
  "cells": [
    {
      "cell_type": "markdown",
      "metadata": {
        "id": "view-in-github",
        "colab_type": "text"
      },
      "source": [
        "<a href=\"https://colab.research.google.com/github/Arddistic/Arddistic/blob/main/disEZ.ipynb\" target=\"_parent\"><img src=\"https://colab.research.google.com/assets/colab-badge.svg\" alt=\"Open In Colab\"/></a>"
      ]
    },
    {
      "cell_type": "code",
      "execution_count": null,
      "id": "b9f54a98-61ed-4bd5-8538-1f0d6dcb3015",
      "metadata": {
        "id": "b9f54a98-61ed-4bd5-8538-1f0d6dcb3015"
      },
      "outputs": [],
      "source": [
        "import os\n",
        "import threading\n",
        "import streamlit as st\n",
        "import pickle\n",
        "import time\n",
        "import pandas as pd\n",
        "from langchain import OpenAI\n",
        "from langchain.chains import RetrievalQAWithSourcesChain\n",
        "from langchain.text_splitter import RecursiveCharacterTextSplitter\n",
        "from langchain.document_loaders import UnstructuredURLLoader\n",
        "from langchain.embeddings import OpenAIEmbeddings\n",
        "from langchain.vectorstores import FAISS"
      ]
    },
    {
      "cell_type": "code",
      "execution_count": null,
      "id": "5984cd3d-2858-497f-ac08-5c7ec4b08c70",
      "metadata": {
        "id": "5984cd3d-2858-497f-ac08-5c7ec4b08c70"
      },
      "outputs": [],
      "source": [
        "from dotenv import load_dotenv\n",
        "load_dotenv('kk.env')"
      ]
    },
    {
      "cell_type": "code",
      "execution_count": null,
      "id": "4b626b13-1c0c-4a04-96e3-b8afab8df9b2",
      "metadata": {
        "id": "4b626b13-1c0c-4a04-96e3-b8afab8df9b2"
      },
      "outputs": [],
      "source": [
        "st.title(\"Brief summary of disease pathology\")\n",
        "st.sidebar.title(\"URLs à analyser\")\n",
        "\n",
        "urls = []\n",
        "for i in range(3):\n",
        "    url = st.sidebar.text_input(f\"URL {i+1}\")\n",
        "    urls.append(url)\n",
        "\n",
        "\n",
        "process_url_clicked = st.sidebar.button(\"Analyze Data\")\n",
        "#file_path = \"faiss_store_openai.pkl\"\n",
        "\n",
        "main_placeholder = st.empty()\n",
        "llm = OpenAI(temperature=0.9, max_tokens=500)\n"
      ]
    },
    {
      "cell_type": "code",
      "execution_count": null,
      "id": "9a13017f-b78e-4c57-94f4-55a1dfed5356",
      "metadata": {
        "id": "9a13017f-b78e-4c57-94f4-55a1dfed5356"
      },
      "outputs": [],
      "source": [
        "if process_url_clicked:\n",
        "\n",
        "    loader = UnstructuredURLLoader(urls=urls)\n",
        "    main_placeholder.text(\"✅\")\n",
        "    data = loader.load()\n",
        "\n",
        "    text_splitter = RecursiveCharacterTextSplitter(\n",
        "        separators=['\\n\\n', '\\n', '.', ','],\n",
        "        chunk_size=1000\n",
        "    )\n",
        "    main_placeholder.text(\"✅✅\")\n",
        "    docs = text_splitter.split_documents(data)\n",
        "    # embeddings\n",
        "    embeddings = OpenAIEmbeddings()\n",
        "    vectorstore_openai = FAISS.from_documents(docs, embeddings)\n",
        "    main_placeholder.text(\"✅✅✅\")\n",
        "    time.sleep(2)\n",
        "\n",
        "    vectorstore_openai.save_local(\"faiss_store\");\n"
      ]
    },
    {
      "cell_type": "code",
      "execution_count": null,
      "id": "5cbc93c7-583f-4cb3-a7e2-9c43dbc7165d",
      "metadata": {
        "id": "5cbc93c7-583f-4cb3-a7e2-9c43dbc7165d"
      },
      "outputs": [],
      "source": [
        "#query = main_placeholder.text_input(\"Question: \")\n",
        "\n",
        "queries = [' State the disease name',\n",
        "           'How does the disease spread?',\n",
        "           'What type of disease is it?',\n",
        "         'List most common symptoms',\n",
        "          'Who are most prone to this disease?',\n",
        "         'State when to see a doctor',\n",
        "         'List three treatment options']\n",
        "\n",
        "results = [];\n",
        "\n",
        "for query in queries:\n",
        "    #if os.path.exists(file_path):\n",
        "        #with open(file_path, \"rb\") as f:\n",
        "            #vectorstore = pickle.load(f)\n",
        "            vectorstore = FAISS.load_local(\"faiss_store\", OpenAIEmbeddings(), allow_dangerous_deserialization=True)\n",
        "            chain = RetrievalQAWithSourcesChain.from_llm(llm=llm, retriever=vectorstore.as_retriever())\n",
        "            result = chain({\"question\": query}, return_only_outputs=True)\n",
        "            # result will be a dictionary of this format --> {\"answer\": \"\", \"sources\": [] }\n",
        "            #st.header(\"Answer\")\n",
        "            #st.write(result[\"answer\"])\n",
        "            answer = result[\"answer\"]\n",
        "            # sources = result.get(\"sources\", \"\")\n",
        "            #results.append({\"Question\": query, \"Answer\": answer, \"Sources\": sources})\n",
        "            max_answer_length = 75  # Adjust this value according to your preference\n",
        "            truncated_answer = (answer[:max_answer_length] + '...') if len(answer) > max_answer_length else answer\n",
        "            #sources = result.get(\"sources\", \"\")\n",
        "            results.append({\"Question\": query, \"Answer\": truncated_answer})\n",
        "\n",
        "            # Display sources, if available\n",
        "            #sources = result.get(\"sources\", \"\")\n",
        "            #if sources:\n",
        "                #st.subheader(\"Sources:\")\n",
        "               # sources_list = sources.split(\"\\n\")  # Split the sources by newline\n",
        "                #for source in sources_list:\n",
        "                   # st.write(source)\n",
        "\n",
        "\n",
        "\n",
        "df = pd.DataFrame(results) #convert results to dataframe\n",
        "\n",
        "custom_width = 750\n",
        "custom_height = 450\n",
        "st.dataframe(df, width=custom_width, height=custom_height) #display dataframe\n"
      ]
    }
  ],
  "metadata": {
    "kernelspec": {
      "display_name": "Python 3 (ipykernel)",
      "language": "python",
      "name": "python3"
    },
    "language_info": {
      "codemirror_mode": {
        "name": "ipython",
        "version": 3
      },
      "file_extension": ".py",
      "mimetype": "text/x-python",
      "name": "python",
      "nbconvert_exporter": "python",
      "pygments_lexer": "ipython3",
      "version": "3.11.7"
    },
    "colab": {
      "provenance": [],
      "include_colab_link": true
    }
  },
  "nbformat": 4,
  "nbformat_minor": 5
}